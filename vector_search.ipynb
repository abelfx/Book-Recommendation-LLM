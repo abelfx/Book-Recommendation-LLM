{
 "cells": [
  {
   "cell_type": "code",
   "execution_count": 1,
   "id": "cfb7108f",
   "metadata": {},
   "outputs": [],
   "source": [
    "from langchain_community.document_loaders import TextLoader\n",
    "from langchain_text_splitters import CharacterTextSplitter\n",
    "from langchain_mistralai import MistralAIEmbeddings\n",
    "from langchain_chroma import Chroma # opensource vector database"
   ]
  },
  {
   "cell_type": "code",
   "execution_count": 2,
   "id": "04ee87cb",
   "metadata": {},
   "outputs": [
    {
     "data": {
      "text/plain": [
       "True"
      ]
     },
     "execution_count": 2,
     "metadata": {},
     "output_type": "execute_result"
    }
   ],
   "source": [
    "from dotenv import load_dotenv\n",
    "import os\n",
    "\n",
    "load_dotenv()"
   ]
  },
  {
   "cell_type": "code",
   "execution_count": 3,
   "id": "312b2078",
   "metadata": {},
   "outputs": [],
   "source": [
    "import pandas as pd\n",
    "\n",
    "books = pd.read_csv('books_cleaned.csv')"
   ]
  },
  {
   "cell_type": "code",
   "execution_count": 27,
   "id": "30227600",
   "metadata": {},
   "outputs": [
    {
     "data": {
      "text/plain": [
       "0       9780002005883 A NOVEL THAT READERS and critics...\n",
       "1       9780002261982 A new 'Christie for Christmas' -...\n",
       "2       9780006178736 A memorable, mesmerizing heroine...\n",
       "3       9780006280897 Lewis' work on the nature of lov...\n",
       "4       9780006280934 \"In The Problem of Pain, C.S. Le...\n",
       "                              ...                        \n",
       "5193    9788172235222 On A Train Journey Home To North...\n",
       "5194    9788173031014 This book tells the tale of a ma...\n",
       "5195    9788179921623 Wisdom to Create a Life of Passi...\n",
       "5196    9788185300535 This collection of the timeless ...\n",
       "5197    9789027712059 Since the three volume edition o...\n",
       "Name: tagged description, Length: 5198, dtype: object"
      ]
     },
     "execution_count": 27,
     "metadata": {},
     "output_type": "execute_result"
    }
   ],
   "source": [
    "books[\"tagged description\"]"
   ]
  },
  {
   "cell_type": "code",
   "execution_count": 4,
   "id": "ceb64805",
   "metadata": {},
   "outputs": [],
   "source": [
    "books[\"tagged description\"].to_csv(\"tagged_descriptions.txt\", index=False, header=False)"
   ]
  },
  {
   "cell_type": "code",
   "execution_count": 5,
   "id": "3ff582d6",
   "metadata": {},
   "outputs": [],
   "source": [
    "raw_document = TextLoader(\"tagged_descriptions.txt\", encoding=\"utf-8\").load()"
   ]
  },
  {
   "cell_type": "code",
   "execution_count": 7,
   "id": "ff4321e3",
   "metadata": {},
   "outputs": [
    {
     "name": "stderr",
     "output_type": "stream",
     "text": [
      "Created a chunk of size 2010, which is longer than the specified 1500\n",
      "Created a chunk of size 1637, which is longer than the specified 1500\n",
      "Created a chunk of size 2012, which is longer than the specified 1500\n",
      "Created a chunk of size 2834, which is longer than the specified 1500\n",
      "Created a chunk of size 2510, which is longer than the specified 1500\n",
      "Created a chunk of size 1814, which is longer than the specified 1500\n",
      "Created a chunk of size 1830, which is longer than the specified 1500\n",
      "Created a chunk of size 1644, which is longer than the specified 1500\n",
      "Created a chunk of size 1932, which is longer than the specified 1500\n",
      "Created a chunk of size 2008, which is longer than the specified 1500\n",
      "Created a chunk of size 2285, which is longer than the specified 1500\n",
      "Created a chunk of size 1914, which is longer than the specified 1500\n",
      "Created a chunk of size 2616, which is longer than the specified 1500\n",
      "Created a chunk of size 1580, which is longer than the specified 1500\n",
      "Created a chunk of size 1530, which is longer than the specified 1500\n",
      "Created a chunk of size 2032, which is longer than the specified 1500\n",
      "Created a chunk of size 1619, which is longer than the specified 1500\n",
      "Created a chunk of size 2762, which is longer than the specified 1500\n",
      "Created a chunk of size 1807, which is longer than the specified 1500\n",
      "Created a chunk of size 1771, which is longer than the specified 1500\n",
      "Created a chunk of size 1717, which is longer than the specified 1500\n",
      "Created a chunk of size 1681, which is longer than the specified 1500\n",
      "Created a chunk of size 2005, which is longer than the specified 1500\n",
      "Created a chunk of size 2141, which is longer than the specified 1500\n",
      "Created a chunk of size 1552, which is longer than the specified 1500\n",
      "Created a chunk of size 1654, which is longer than the specified 1500\n",
      "Created a chunk of size 1668, which is longer than the specified 1500\n",
      "Created a chunk of size 1618, which is longer than the specified 1500\n",
      "Created a chunk of size 1599, which is longer than the specified 1500\n",
      "Created a chunk of size 1962, which is longer than the specified 1500\n",
      "Created a chunk of size 1710, which is longer than the specified 1500\n",
      "Created a chunk of size 1949, which is longer than the specified 1500\n",
      "Created a chunk of size 1809, which is longer than the specified 1500\n",
      "Created a chunk of size 1520, which is longer than the specified 1500\n",
      "Created a chunk of size 1624, which is longer than the specified 1500\n",
      "Created a chunk of size 2209, which is longer than the specified 1500\n",
      "Created a chunk of size 2877, which is longer than the specified 1500\n",
      "Created a chunk of size 1714, which is longer than the specified 1500\n",
      "Created a chunk of size 1640, which is longer than the specified 1500\n",
      "Created a chunk of size 2400, which is longer than the specified 1500\n",
      "Created a chunk of size 2122, which is longer than the specified 1500\n",
      "Created a chunk of size 1693, which is longer than the specified 1500\n",
      "Created a chunk of size 2181, which is longer than the specified 1500\n",
      "Created a chunk of size 2171, which is longer than the specified 1500\n",
      "Created a chunk of size 1975, which is longer than the specified 1500\n",
      "Created a chunk of size 1987, which is longer than the specified 1500\n",
      "Created a chunk of size 1648, which is longer than the specified 1500\n",
      "Created a chunk of size 2723, which is longer than the specified 1500\n",
      "Created a chunk of size 1634, which is longer than the specified 1500\n",
      "Created a chunk of size 2456, which is longer than the specified 1500\n",
      "Created a chunk of size 1548, which is longer than the specified 1500\n",
      "Created a chunk of size 1776, which is longer than the specified 1500\n",
      "Created a chunk of size 1598, which is longer than the specified 1500\n",
      "Created a chunk of size 1963, which is longer than the specified 1500\n",
      "Created a chunk of size 2450, which is longer than the specified 1500\n",
      "Created a chunk of size 1798, which is longer than the specified 1500\n",
      "Created a chunk of size 1568, which is longer than the specified 1500\n",
      "Created a chunk of size 1763, which is longer than the specified 1500\n",
      "Created a chunk of size 1629, which is longer than the specified 1500\n",
      "Created a chunk of size 1593, which is longer than the specified 1500\n",
      "Created a chunk of size 1587, which is longer than the specified 1500\n",
      "Created a chunk of size 1533, which is longer than the specified 1500\n",
      "Created a chunk of size 1893, which is longer than the specified 1500\n",
      "Created a chunk of size 3170, which is longer than the specified 1500\n",
      "Created a chunk of size 1534, which is longer than the specified 1500\n",
      "Created a chunk of size 1590, which is longer than the specified 1500\n",
      "Created a chunk of size 1609, which is longer than the specified 1500\n",
      "Created a chunk of size 1625, which is longer than the specified 1500\n",
      "Created a chunk of size 2034, which is longer than the specified 1500\n",
      "Created a chunk of size 1721, which is longer than the specified 1500\n",
      "Created a chunk of size 1530, which is longer than the specified 1500\n",
      "Created a chunk of size 1651, which is longer than the specified 1500\n",
      "Created a chunk of size 1581, which is longer than the specified 1500\n",
      "Created a chunk of size 1646, which is longer than the specified 1500\n",
      "Created a chunk of size 1689, which is longer than the specified 1500\n",
      "Created a chunk of size 2033, which is longer than the specified 1500\n",
      "Created a chunk of size 2942, which is longer than the specified 1500\n",
      "Created a chunk of size 1802, which is longer than the specified 1500\n",
      "Created a chunk of size 1597, which is longer than the specified 1500\n",
      "Created a chunk of size 1643, which is longer than the specified 1500\n",
      "Created a chunk of size 1765, which is longer than the specified 1500\n",
      "Created a chunk of size 1973, which is longer than the specified 1500\n",
      "Created a chunk of size 1564, which is longer than the specified 1500\n",
      "Created a chunk of size 1622, which is longer than the specified 1500\n",
      "Created a chunk of size 1581, which is longer than the specified 1500\n",
      "Created a chunk of size 1922, which is longer than the specified 1500\n",
      "Created a chunk of size 1912, which is longer than the specified 1500\n",
      "Created a chunk of size 2148, which is longer than the specified 1500\n",
      "Created a chunk of size 2490, which is longer than the specified 1500\n",
      "Created a chunk of size 1967, which is longer than the specified 1500\n",
      "Created a chunk of size 1621, which is longer than the specified 1500\n",
      "Created a chunk of size 3784, which is longer than the specified 1500\n",
      "Created a chunk of size 2702, which is longer than the specified 1500\n",
      "Created a chunk of size 5836, which is longer than the specified 1500\n",
      "Created a chunk of size 1711, which is longer than the specified 1500\n",
      "Created a chunk of size 1678, which is longer than the specified 1500\n",
      "Created a chunk of size 1810, which is longer than the specified 1500\n",
      "Created a chunk of size 1739, which is longer than the specified 1500\n",
      "Created a chunk of size 1616, which is longer than the specified 1500\n",
      "Created a chunk of size 1866, which is longer than the specified 1500\n",
      "Created a chunk of size 1758, which is longer than the specified 1500\n",
      "Created a chunk of size 1557, which is longer than the specified 1500\n",
      "Created a chunk of size 1960, which is longer than the specified 1500\n",
      "Created a chunk of size 2075, which is longer than the specified 1500\n",
      "Created a chunk of size 2004, which is longer than the specified 1500\n",
      "Created a chunk of size 1855, which is longer than the specified 1500\n",
      "Created a chunk of size 1583, which is longer than the specified 1500\n",
      "Created a chunk of size 1512, which is longer than the specified 1500\n",
      "Created a chunk of size 1865, which is longer than the specified 1500\n",
      "Created a chunk of size 1519, which is longer than the specified 1500\n",
      "Created a chunk of size 1549, which is longer than the specified 1500\n",
      "Created a chunk of size 2084, which is longer than the specified 1500\n",
      "Created a chunk of size 2299, which is longer than the specified 1500\n",
      "Created a chunk of size 2073, which is longer than the specified 1500\n",
      "Created a chunk of size 1741, which is longer than the specified 1500\n",
      "Created a chunk of size 2023, which is longer than the specified 1500\n",
      "Created a chunk of size 2024, which is longer than the specified 1500\n",
      "Created a chunk of size 1533, which is longer than the specified 1500\n",
      "Created a chunk of size 1627, which is longer than the specified 1500\n",
      "Created a chunk of size 2372, which is longer than the specified 1500\n",
      "Created a chunk of size 1681, which is longer than the specified 1500\n",
      "Created a chunk of size 1983, which is longer than the specified 1500\n",
      "Created a chunk of size 1629, which is longer than the specified 1500\n",
      "Created a chunk of size 1747, which is longer than the specified 1500\n",
      "Created a chunk of size 1722, which is longer than the specified 1500\n",
      "Created a chunk of size 1530, which is longer than the specified 1500\n",
      "Created a chunk of size 2351, which is longer than the specified 1500\n",
      "Created a chunk of size 1850, which is longer than the specified 1500\n",
      "Created a chunk of size 1526, which is longer than the specified 1500\n",
      "Created a chunk of size 1791, which is longer than the specified 1500\n",
      "Created a chunk of size 1656, which is longer than the specified 1500\n",
      "Created a chunk of size 2350, which is longer than the specified 1500\n",
      "Created a chunk of size 1650, which is longer than the specified 1500\n",
      "Created a chunk of size 1528, which is longer than the specified 1500\n",
      "Created a chunk of size 1997, which is longer than the specified 1500\n",
      "Created a chunk of size 1745, which is longer than the specified 1500\n",
      "Created a chunk of size 2334, which is longer than the specified 1500\n",
      "Created a chunk of size 2946, which is longer than the specified 1500\n",
      "Created a chunk of size 3243, which is longer than the specified 1500\n",
      "Created a chunk of size 2780, which is longer than the specified 1500\n",
      "Created a chunk of size 2085, which is longer than the specified 1500\n",
      "Created a chunk of size 1899, which is longer than the specified 1500\n",
      "Created a chunk of size 2018, which is longer than the specified 1500\n",
      "Created a chunk of size 1933, which is longer than the specified 1500\n",
      "Created a chunk of size 1753, which is longer than the specified 1500\n",
      "Created a chunk of size 2713, which is longer than the specified 1500\n",
      "Created a chunk of size 2278, which is longer than the specified 1500\n",
      "Created a chunk of size 2053, which is longer than the specified 1500\n",
      "Created a chunk of size 2016, which is longer than the specified 1500\n",
      "Created a chunk of size 1731, which is longer than the specified 1500\n",
      "Created a chunk of size 2069, which is longer than the specified 1500\n",
      "Created a chunk of size 1903, which is longer than the specified 1500\n",
      "Created a chunk of size 1623, which is longer than the specified 1500\n",
      "Created a chunk of size 1774, which is longer than the specified 1500\n",
      "Created a chunk of size 1504, which is longer than the specified 1500\n",
      "Created a chunk of size 1546, which is longer than the specified 1500\n",
      "Created a chunk of size 2857, which is longer than the specified 1500\n",
      "Created a chunk of size 1862, which is longer than the specified 1500\n",
      "Created a chunk of size 1527, which is longer than the specified 1500\n",
      "Created a chunk of size 1603, which is longer than the specified 1500\n",
      "Created a chunk of size 2869, which is longer than the specified 1500\n",
      "Created a chunk of size 2347, which is longer than the specified 1500\n",
      "Created a chunk of size 2453, which is longer than the specified 1500\n",
      "Created a chunk of size 1510, which is longer than the specified 1500\n",
      "Created a chunk of size 1514, which is longer than the specified 1500\n",
      "Created a chunk of size 1524, which is longer than the specified 1500\n",
      "Created a chunk of size 1898, which is longer than the specified 1500\n",
      "Created a chunk of size 2149, which is longer than the specified 1500\n",
      "Created a chunk of size 2742, which is longer than the specified 1500\n",
      "Created a chunk of size 3938, which is longer than the specified 1500\n",
      "Created a chunk of size 1964, which is longer than the specified 1500\n",
      "Created a chunk of size 1531, which is longer than the specified 1500\n",
      "Created a chunk of size 1657, which is longer than the specified 1500\n"
     ]
    }
   ],
   "source": [
    "text_splitter = CharacterTextSplitter(chunk_size=1500, chunk_overlap=0, separator=\"\\n\")\n",
    "documents = text_splitter.split_documents(raw_document)"
   ]
  },
  {
   "cell_type": "code",
   "execution_count": 8,
   "id": "250f854d",
   "metadata": {},
   "outputs": [
    {
     "data": {
      "text/plain": [
       "Document(metadata={'source': 'tagged_descriptions.txt'}, page_content='\"9780002005883 A NOVEL THAT READERS and critics have been eagerly anticipating for over a decade, Gilead is an astonishingly imagined story of remarkable lives. John Ames is a preacher, the son of a preacher and the grandson (both maternal and paternal) of preachers. It’s 1956 in Gilead, Iowa, towards the end of the Reverend Ames’s life, and he is absorbed in recording his family’s story, a legacy for the young son he will never see grow up. Haunted by his grandfather’s presence, John tells of the rift between his grandfather and his father: the elder, an angry visionary who fought for the abolitionist cause, and his son, an ardent pacifist. He is troubled, too, by his prodigal namesake, Jack (John Ames) Boughton, his best friend’s lost son who returns to Gilead searching for forgiveness and redemption. Told in John Ames’s joyous, rambling voice that finds beauty, humour and truth in the smallest of life’s details, Gilead is a song of celebration and acceptance of the best and the worst the world has to offer. At its heart is a tale of the sacred bonds between fathers and sons, pitch-perfect in style and story, set to dazzle critics and readers alike.\"')"
      ]
     },
     "execution_count": 8,
     "metadata": {},
     "output_type": "execute_result"
    }
   ],
   "source": [
    "documents[0]"
   ]
  },
  {
   "cell_type": "code",
   "execution_count": null,
   "id": "26de9769",
   "metadata": {},
   "outputs": [
    {
     "data": {
      "application/vnd.jupyter.widget-view+json": {
       "model_id": "717134340547477c8af5b7a7f2bbd30d",
       "version_major": 2,
       "version_minor": 0
      },
      "text/plain": [
       "tokenizer.json: 0.00B [00:00, ?B/s]"
      ]
     },
     "metadata": {},
     "output_type": "display_data"
    }
   ],
   "source": [
    "embedding = MistralAIEmbeddings(\n",
    "    model=\"mistral-embed\",\n",
    "    api_key= os.getenv(\"MISTRAL_API_KEY\")\n",
    ")\n",
    "\n",
    "db_books = Chroma.from_documents(documents, embedding=embedding) "
   ]
  },
  {
   "cell_type": "code",
   "execution_count": 22,
   "id": "1ae805b6",
   "metadata": {},
   "outputs": [],
   "source": [
    "query = \"A book about computers and technology\"\n",
    "docs = db_books.similarity_search(query, k=5)"
   ]
  },
  {
   "cell_type": "code",
   "execution_count": 23,
   "id": "ece677c8",
   "metadata": {},
   "outputs": [
    {
     "data": {
      "text/plain": [
       "[Document(id='cdba0969-18bf-484b-aeb2-22de8cbf1e44', metadata={'source': 'tagged_descriptions.txt'}, page_content='\"9780226817415 In the early 1960s, computers haunted the American popular imagination. Bleak tools of the cold war, they embodied the rigid organization and mechanical conformity that made the military-industrial complex possible. But by the 1990s—and the dawn of the Internet—computers started to represent a very different kind of world: a collaborative and digital utopia modeled on the communal ideals of the hippies who so vehemently rebelled against the cold war establishment in the first place. From Counterculture to Cyberculture is the first book to explore this extraordinary and ironic transformation. Fred Turner here traces the previously untold story of a highly influential group of San Francisco Bay–area entrepreneurs: Stewart Brand and the Whole Earth network. Between 1968 and 1998, via such familiar venues as the National Book Award–winning Whole Earth Catalog, the computer conferencing system known as WELL, and, ultimately, the launch of the wildly successful Wired magazine, Brand and his colleagues brokered a long-running collaboration between San Francisco flower power and the emerging technological hub of Silicon Valley. Thanks to their vision, counterculturalists and technologists alike joined together to reimagine computers as tools for personal liberation, the building of virtual and decidedly alternative communities, and the exploration of bold new social frontiers. Shedding new light on how our networked culture came to be, this fascinating book reminds us that the distance between the Grateful Dead and Google, between Ken Kesey and the computer itself, is not as great as we might think.\"'),\n",
       " Document(id='a653186b-61fd-4e5a-83b0-24ca57b53b53', metadata={'source': 'tagged_descriptions.txt'}, page_content='\"9780393061437 The high-tech wizard behind Apple offers a personal account of the creation of the first personal computer by marrying computer circuitry with a video screen and a typewriter keyboard to create the affordable, easy-to-use Apple I, detailing his life before and after Apple and providing a personal perspective on an invention that ignited the computer revolution. 50,000 first printing.\"\\n\"9780393061635 A geneticist and author of Endless Forms Most Beautiful discusses the role of DNA in the evolution of life on Earth, explaining how an analysis of DNA reveals a complete record of the events that have shaped each species and how it provides evidence of the validity of the theory of evolution.\"\\n\"9780393064988 Collects forty-four key segments from the late paleontologist and evolutionary biologist\\'s books, papers, and essays, in a collection that includes an assortment of previously unpublished articles and speeches.\"\\n9780393098211 A rakish young man with great ambitions and a remarkable ability to take advantage of profitable situations is the hero of this novel set in nineteenth-century France\\n\"9780393307009 A study of the Burgess Shale, a sea bed 530 million years old, and attempts to tackle what the findings are and what it means\"'),\n",
       " Document(id='d5dcbe47-8a1c-4009-aa35-9a8395858697', metadata={'source': 'tagged_descriptions.txt'}, page_content='\"9780007179817 At computer giant Microsoft, Dan, Susan, Abe, Todd and Bug are struggling to get a life. The job may be super cool, the pay may be astronomical, but they\\'re heading nowhere, and however hard they work, however many shares they earn, they\\'re never going to be as rich as Bill. And besides, with all the hours they\\'re putting in, their best relationships are on e-mail. Something\\'s got to give.\"'),\n",
       " Document(id='05d4ad54-8bb4-4367-a0c3-f97917340ac0', metadata={'source': 'tagged_descriptions.txt'}, page_content='\"9780380815937 This is \"\"the Word\"\" -- one man\\'s word, certainly -- about the art (and artifice) of the state of our computer-centric existence. And considering that the \"\"one man\"\" is Neal Stephenson, \"\"the hacker Hemingway\"\" (Newsweek) -- acclaimed novelist, pragmatist, seer, nerd-friendly philosopher, and nationally bestselling author of groundbreaking literary works (Snow Crash, Cryptonomicon, etc., etc.) -- the word is well worth hearing. Mostly well-reasoned examination and partial rant, Stephenson\\'s In the Beginning... was the Command Line is a thoughtful, irreverent, hilarious treatise on the cyber-culture past and present; on operating system tyrannies and downloaded popular revolutions; on the Internet, Disney World, Big Bangs, not to mention the meaning of life itself.\"\\n\"9780380817931 Beneath the gaze of the gods, the mighty armies of Greece and Troy met in fierce and glorious combat, scrupulously following the text set forth in Homer\\'s timeless narrative. But that was before twenty-first-century scholar Thomas Hockenberry stirred the bloody brew, causing an enraged Achilles to join forces with his archenemy Hector and turn his murderous wrath on Zeus and the entire pantheon of divine manipulators; before the swift and terrible mechanical creatures that catered for centuries to the pitiful idle remnants of Earth\\'s human race began massing in the millions, to exterminate rather than serve. And now all bets are off.\"'),\n",
       " Document(id='febfe4ee-fb17-496e-aa4a-a3a79e1b32bf', metadata={'source': 'tagged_descriptions.txt'}, page_content='\"9780261103665 These tales tell of the rebellion of Feanor and his kindred against the gods, and of the war, hopeless, despite great heroism, against the great enemy.\"\\n\"9780262240512 Seeks to rehabilitate dialectical materialism by discussing the \"\"parallax gap,\"\" which separates two points because of the displacement of an object resulting from a change in observational position.\"\\n\"9780262510875 \"\"Structure and Interpretation of Computer Programs\"\" has had a dramatic impact on computer science curricula over the past decade. This long-awaited revision contains changes throughout the text. There are new implementations of most of the major programming systems in the book, including the interpreters and compilers, and the authors have incorporated many small changes that reflect their experience teaching the course at MIT since the first edition was published. A new theme has been introduced that emphasizes the central role played by different approaches to dealing with time in computational models: objects with state, concurrent programming, functional programming and lazy evaluation, and nondeterministic programming. There are new example sections on higher-order procedures in graphics and on applications of stream processing in numerical programming, and many new exercises. In addition, all the programs have been reworked to run in any Scheme implementation that adheres to the IEEE standard.\"')]"
      ]
     },
     "execution_count": 23,
     "metadata": {},
     "output_type": "execute_result"
    }
   ],
   "source": [
    "docs"
   ]
  },
  {
   "cell_type": "code",
   "execution_count": 24,
   "id": "921c7e03",
   "metadata": {},
   "outputs": [
    {
     "data": {
      "text/plain": [
       "[Document(id='69f27879-ae90-47e1-aeac-71487582241d', metadata={'source': 'tagged_descriptions.txt'}, page_content='\"9780520231511 \"\"Undertaker of the Mind is the most splendid piece of original research for many a year on the early history of British psychiatry. Brilliantly exploiting hitherto unused documentation, Andrews and Scull bring the once murky world of the eighteenth- century mad-doctor to life, and dispel many deeply embedded myths in the process. Absolutely essential reading!\"\"--Roy Porter, author of The Creation of the Modern World \"\"This is a wonderfully well-written work... The authors reconstruct, in rich and convincing detail, the dilemmas faced by Monro, his patients, their families, and the broader culture when confronted with psychological distress.\"\"--Joel Braslow, author of Mental Ills and Bodily Cures \"\"A telling reconstruction of the ideas and practice of probably the most famous psychiatrist in eighteenth-century Britain.... The analyses of Monro\\'s more famous cases, Cruden, Ferrers, etc., are both stimulating and entertaining.\"\"--William Bynum, author of Science and the Practice of Medicine in the Nineteenth Century\"\\n\"9780520234413 This is the first book to explore the English-language literary scene in Paris after World War II, including the intersecting lives of Richard Wright, Samuel Beckett, James Baldwin, and Maurice Girodias.\"'),\n",
       " Document(id='c733562e-d422-41f6-88cd-88d61659c4e1', metadata={'source': 'tagged_descriptions.txt'}, page_content='\"9780684831831 The definitive work on the profound and surprising links between manic-depression and creativity, from the bestselling psychologist of bipolar disorders who wrote An Unquiet Mind. One of the foremost psychologists in America, “Kay Jamison is plainly among the few who have a profound understanding of the relationship that exists between art and madness” (William Styron). The anguished and volatile intensity associated with the artistic temperament was once thought to be a symptom of genius or eccentricity peculiar to artists, writers, and musicians. Her work, based on her study as a clinical psychologist and researcher in mood disorders, reveals that many artists subject to exalted highs and despairing lows were in fact engaged in a struggle with clinically identifiable manic-depressive illness. Jamison presents proof of the biological foundations of this disease and applies what is known about the illness to the lives and works of some of the world\\'s greatest artists including Lord Byron, Vincent Van Gogh, and Virginia Woolf.\"\\n\"9780684832401 Drawing from religion and the human sciences, particularly psychology after Freud, the author attempts to demonstrate that the fear of death is man\\'s central concern\"'),\n",
       " Document(id='e9242054-761e-4c9a-80d0-aee8b0a69419', metadata={'source': 'tagged_descriptions.txt'}, page_content='\"9780140236231 The first volume of the REGENERATION trilogy which centres around an actual encounter between army psychologist W.H.R.Rivers and the novelist Siegfried Sassoon, at Craiglockhart Hospital, during the First World War.\"\\n9780140237535 Indhold: A perfect day for bananafish ; Uncle Wiggily in Connecticut ; The laughing man ; Down at the Dinghy ; Just before the war with the Eskimos ; For Esmé - with love and squalor ; Pretty mouth and green my eyes ; De Daumier-Smith\\'s blue period ; Teddy.\\n\"9780140238280 The lives of two different couples--wealthy Los Angeles liberals Delaney and Kyra Mossbacher, and Candido and America Rincon, a pair of Mexican illegals--suddenly collide, in a story that unfolds from the shifting viewpoints of the various characters\"\\n\"9780140244915 \"\"Presented with extraordinary lucidity, cogency and panache...Powerful and gripping...To have read [the book] is to have consulted a first draft of the structural plan of the human psyche...a glittering tour de force\"\" - Spectator \"\"Why do memories fade? Why do we lose our tempers? Why do fools fall in love? Pinker\\'s objective in this erudite account is to explore the nature and history of the human mind...He explores computations and evolutions, and then considers how the mind lets us \"\"see, think, feel, interact, and pursue higher callings like art, religion and philosophy\"\" - Sunday Times\"'),\n",
       " Document(id='ed0ff07d-4aee-4b68-bc21-fe44e9357768', metadata={'source': 'tagged_descriptions.txt'}, page_content='\"9780618479030 The best-selling books of Andrew Weil, \"\"the guru of alternative medicine,\"\" (San Francisco Examiner) offer a comprehensive blend of traditional and alternative methods that help to achieve better health in the modern world. Natural Health, Natural Medicine is a comprehensive resource for everything you need to know to maintain optimum health and treat common ailments. This landmark book incorporates Dr. Weil’s theories of preventive health maintenance and alternative healing into one extremely useful and readable reference, featuring general diet and nutrition information as well as simple recipes, answers to readers’ most pressing questions, a catalogue of home remedies, invaluable resources, and hundreds of practical tips. This edition includes up-to-the-minute scientific findings and has been expanded to provide trustworthy advice about low-carb diets, hormone replacement therapy, Alzheimer’s, attention deficit disorder, reflux disease, autism, type 2 diabetes, erectile dysfunction, the flu, and much more.\"\\n\"9780618485222 An incisive portrait of the immigrant experience follows the Ganguli family from their traditional life in India through their arrival in Massachusetts in the late 1960s and their difficult melding into an American way of life, in a debut novel that spans three decades, two continents, and two generations. By the Pulitzer Prize-winning author of Interpreter of Maladies. Reprint.\"'),\n",
       " Document(id='a9ce952f-0bdf-4da7-ba1f-3abfc00e2be6', metadata={'source': 'tagged_descriptions.txt'}, page_content='\"9780099458265 As young boys both Jacques RebiSre and Thomas Midwinter become fascinated with trying to understand the human mind.As psychiatris- ts, their quest takes them from the squalor of the Victorian lunatic asylum to the crowded lecture halls of the renowned Professor Charcot in Paris; from the heights of the Sierra Madre in California to the plains of unexplored Africa. As the concerns of the old century fade and the First World War divides Europe, the two men\\'s volatile relationship develops and changes, but is always tempered by one exceptional woman; Thomas\\'s sister Sonia.Moving and challenging in equal measure, HUMAN TRACES explores the question of what kind of beings men and women really are.\"')]"
      ]
     },
     "execution_count": 24,
     "metadata": {},
     "output_type": "execute_result"
    }
   ],
   "source": [
    "query = \"A book about medicine and psychology\"\n",
    "docs = db_books.similarity_search(query, k=5)\n",
    "docs"
   ]
  },
  {
   "cell_type": "code",
   "execution_count": 49,
   "id": "b2c0b454",
   "metadata": {},
   "outputs": [
    {
     "data": {
      "text/html": [
       "<div>\n",
       "<style scoped>\n",
       "    .dataframe tbody tr th:only-of-type {\n",
       "        vertical-align: middle;\n",
       "    }\n",
       "\n",
       "    .dataframe tbody tr th {\n",
       "        vertical-align: top;\n",
       "    }\n",
       "\n",
       "    .dataframe thead th {\n",
       "        text-align: right;\n",
       "    }\n",
       "</style>\n",
       "<table border=\"1\" class=\"dataframe\">\n",
       "  <thead>\n",
       "    <tr style=\"text-align: right;\">\n",
       "      <th></th>\n",
       "      <th>isbn13</th>\n",
       "      <th>isbn10</th>\n",
       "      <th>title</th>\n",
       "      <th>authors</th>\n",
       "      <th>categories</th>\n",
       "      <th>thumbnail</th>\n",
       "      <th>description</th>\n",
       "      <th>published_year</th>\n",
       "      <th>average_rating</th>\n",
       "      <th>num_pages</th>\n",
       "      <th>ratings_count</th>\n",
       "      <th>title_and_subtitle</th>\n",
       "      <th>tagged description</th>\n",
       "    </tr>\n",
       "  </thead>\n",
       "  <tbody>\n",
       "    <tr>\n",
       "      <th>2584</th>\n",
       "      <td>9780520231511</td>\n",
       "      <td>0520231511</td>\n",
       "      <td>Undertaker of the Mind</td>\n",
       "      <td>Jonathan Andrews;Andrew T. Scull</td>\n",
       "      <td>Biography &amp; Autobiography</td>\n",
       "      <td>http://books.google.com/books/content?id=_zYTn...</td>\n",
       "      <td>\"Undertaker of the Mind is the most splendid p...</td>\n",
       "      <td>2001.0</td>\n",
       "      <td>3.42</td>\n",
       "      <td>386.0</td>\n",
       "      <td>12.0</td>\n",
       "      <td>Undertaker of the Mind: John Monro and Mad-doc...</td>\n",
       "      <td>9780520231511 \"Undertaker of the Mind is the m...</td>\n",
       "    </tr>\n",
       "  </tbody>\n",
       "</table>\n",
       "</div>"
      ],
      "text/plain": [
       "             isbn13      isbn10                   title  \\\n",
       "2584  9780520231511  0520231511  Undertaker of the Mind   \n",
       "\n",
       "                               authors                 categories  \\\n",
       "2584  Jonathan Andrews;Andrew T. Scull  Biography & Autobiography   \n",
       "\n",
       "                                              thumbnail  \\\n",
       "2584  http://books.google.com/books/content?id=_zYTn...   \n",
       "\n",
       "                                            description  published_year  \\\n",
       "2584  \"Undertaker of the Mind is the most splendid p...          2001.0   \n",
       "\n",
       "      average_rating  num_pages  ratings_count  \\\n",
       "2584            3.42      386.0           12.0   \n",
       "\n",
       "                                     title_and_subtitle  \\\n",
       "2584  Undertaker of the Mind: John Monro and Mad-doc...   \n",
       "\n",
       "                                     tagged description  \n",
       "2584  9780520231511 \"Undertaker of the Mind is the m...  "
      ]
     },
     "execution_count": 49,
     "metadata": {},
     "output_type": "execute_result"
    }
   ],
   "source": [
    "# lets return the titles and authors using the isbn in the tagged descriptons\n",
    "\n",
    "# extract the isbn from the returned docs and convert it to int ( remove the initial \")\n",
    "isbn =  docs[0].page_content.split()[0].strip()\n",
    "isbn = int(isbn[1:])\n",
    "\n",
    "books[books[\"isbn13\"] == isbn]"
   ]
  },
  {
   "cell_type": "code",
   "execution_count": null,
   "id": "f5c72943",
   "metadata": {},
   "outputs": [],
   "source": [
    "# Recommendation System\n",
    "def retrive_semantic_recommendation(query: str, top_k: int = 10) -> pd.DataFrame:\n",
    "    results = []\n",
    "    docs = db_books.similarity_search(query, top_k)\n",
    "    for i in range(len(docs)):\n",
    "        results += [int(docs[i].page_content.strip('\"').split()[0])]\n",
    "    \n",
    "    return books[books[\"isbn13\"].isin(results).head(top_k)] # stopped at 1:15 -- finished the theory"
   ]
  },
  {
   "cell_type": "code",
   "execution_count": null,
   "id": "2c166dc9",
   "metadata": {},
   "outputs": [],
   "source": []
  }
 ],
 "metadata": {
  "kernelspec": {
   "display_name": "Python 3 (ipykernel)",
   "language": "python",
   "name": "python3"
  },
  "language_info": {
   "codemirror_mode": {
    "name": "ipython",
    "version": 3
   },
   "file_extension": ".py",
   "mimetype": "text/x-python",
   "name": "python",
   "nbconvert_exporter": "python",
   "pygments_lexer": "ipython3",
   "version": "3.13.2"
  }
 },
 "nbformat": 4,
 "nbformat_minor": 5
}
